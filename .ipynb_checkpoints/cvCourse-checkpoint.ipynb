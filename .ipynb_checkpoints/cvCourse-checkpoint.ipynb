{
 "cells": [
  {
   "cell_type": "markdown",
   "metadata": {},
   "source": [
    "# Introdução ao Processamento de Imagens\n",
    "Autor: Raphaell Maciel de Sousa"
   ]
  },
  {
   "cell_type": "markdown",
   "metadata": {},
   "source": [
    "Grupo de Pesquisa em Controle, Automação e Robótica (GPCAR)"
   ]
  },
  {
   "cell_type": "markdown",
   "metadata": {},
   "source": [
    "## O que é processamento digital de imagem?\n",
    "\n",
    "De acordo com Gonzalez e Woods 2014, uma imagem pode ser definida como uma função bidimensional, f(x,y), de modo que x e y são coordenadas espaciais e a amplitude de f é a intensidade ou nível de cinza da imagem neste ponto. Uma imagem digital corresponde á uma quantidade finita de coordenadas x e y e suas respectivas intensidades.\n",
    "\n",
    "## Processamento digital de imagens\n",
    "\n",
    "Consiste em um conjunto de técnicas, baseadas em operações matemáticas, aplicadas às imagens digitais. "
   ]
  },
  {
   "cell_type": "markdown",
   "metadata": {},
   "source": [
    "## Primeiros passos (Instalando os pacotes)\n",
    "\n",
    "* Instalar o miniconda 3\n",
    "\n",
    "https://docs.conda.io/en/latest/miniconda.html\n",
    "\n",
    "* Instalar o environment\n",
    "\n",
    "```conda env create -f environment.yml```\n",
    "\n",
    "* Carregar o ambiente\n",
    "\n",
    "```conda activate carnd```\n",
    "\n",
    "* Inicie o jupyter notebook (no bash):\n",
    "\n",
    "```jupyter notebook```"
   ]
  },
  {
   "cell_type": "markdown",
   "metadata": {},
   "source": [
    "## Some code!!\n",
    "\n",
    "Vamos carregar uma imagem para nossos primeiros testes"
   ]
  }
 ],
 "metadata": {
  "kernelspec": {
   "display_name": "Python 3",
   "language": "python",
   "name": "python3"
  },
  "language_info": {
   "codemirror_mode": {
    "name": "ipython",
    "version": 3
   },
   "file_extension": ".py",
   "mimetype": "text/x-python",
   "name": "python",
   "nbconvert_exporter": "python",
   "pygments_lexer": "ipython3",
   "version": "3.7.3"
  }
 },
 "nbformat": 4,
 "nbformat_minor": 2
}
